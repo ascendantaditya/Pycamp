{
 "cells": [
  {
   "cell_type": "code",
   "execution_count": 1,
   "id": "0bd9172b-a4f0-4532-8930-ffefaca91ddd",
   "metadata": {},
   "outputs": [],
   "source": [
    "import numpy as np"
   ]
  },
  {
   "cell_type": "code",
   "execution_count": 2,
   "id": "cbad7d63-11b7-4ca2-8c01-b5461be10fec",
   "metadata": {},
   "outputs": [
    {
     "name": "stdout",
     "output_type": "stream",
     "text": [
      "<class 'numpy.ndarray'>\n",
      "<class 'list'>\n"
     ]
    }
   ],
   "source": [
    "arr = np.array([1,2,3,4,5])\n",
    "print(type(arr)) \n",
    "lst=[1,23]\n",
    "print(type(lst))\n"
   ]
  },
  {
   "cell_type": "code",
   "execution_count": null,
   "id": "ca4bcafd-5796-4781-95d3-79be2c800dcd",
   "metadata": {},
   "outputs": [],
   "source": [
    "print(\"Array arr: \",arr)\n",
    "# arr.setflags(write=False)\n",
    "print(\" Try to change the value at index 3:\")\n",
    "arr[3] = 11\n",
    "print(arr)"
   ]
  },
  {
   "cell_type": "markdown",
   "id": "5fa76645-97e2-4d94-b97a-f63c3a2625ba",
   "metadata": {},
   "source": [
    "## Creating Different Dimensional Arrays"
   ]
  },
  {
   "cell_type": "code",
   "execution_count": null,
   "id": "dfe1efe0-2b5c-4e73-982d-adf55de99eed",
   "metadata": {},
   "outputs": [],
   "source": [
    "# create 0-Dimensional array\n",
    "arr0=np.array(42)\n",
    "print(f\"0D-Array: {arr0}\\n\")\n",
    "\n",
    "# create 1-Dimensional array\n",
    "arr1=np.array([1,2,3,4,5])\n",
    "print(f\"1D-Array: {arr1}\\n\")\n",
    "\n",
    "# create 2-Dimensional array\n",
    "arr2=np.array([4,5,6[1,2,3],[]])\n",
    "print(f\"2D-Array: {arr2}\\n\")\n",
    "\n",
    "# An n-dimensional array means an array with n-1 dimensions as each element in itself\n",
    "\n",
    "# create 3-Dimensional array\n",
    "arr3=np.array([[[1,2,3],[4,5,6],[7,8,9]],[[1,2,3],[4,5,6],[7,8,9]]],dtype='complex')\n",
    "print(f\"3D-Array: {arr3}\\n\")\n",
    "\n",
    "\n",
    "# Checking the dimension of the array\n",
    "# using ndim attribute\n",
    "print(f\"Dimension of arr3: {arr3.ndim}\\n\")\n",
    "print(f\"Dimension of arr2: {arr2.ndim}\\n\")\n",
    "print(f\"Dimension of arr1: {arr1.ndim}\\n\")\n",
    "print(f\"Dimension of arr0: {arr0.ndim}\\n\")"
   ]
  },
  {
   "cell_type": "code",
   "execution_count": 6,
   "id": "b3da7a45-b305-4112-a232-0859f2b34512",
   "metadata": {},
   "outputs": [
    {
     "ename": "NameError",
     "evalue": "name 'arr0' is not defined",
     "output_type": "error",
     "traceback": [
      "\u001b[1;31m---------------------------------------------------------------------------\u001b[0m",
      "\u001b[1;31mNameError\u001b[0m                                 Traceback (most recent call last)",
      "Cell \u001b[1;32mIn[6], line 9\u001b[0m\n\u001b[0;32m      1\u001b[0m \u001b[38;5;66;03m# A lot pf people get confused between the shape and the dimension of the array\u001b[39;00m\n\u001b[0;32m      2\u001b[0m \u001b[38;5;66;03m# Dimension of the array is the number of elements in each axis\u001b[39;00m\n\u001b[0;32m      3\u001b[0m \u001b[38;5;66;03m# Shape of the array is the number of elements in each dimension\u001b[39;00m\n\u001b[1;32m   (...)\u001b[0m\n\u001b[0;32m      7\u001b[0m \n\u001b[0;32m      8\u001b[0m \u001b[38;5;66;03m# 0D-Array: 42\u001b[39;00m\n\u001b[1;32m----> 9\u001b[0m \u001b[38;5;28mprint\u001b[39m(\u001b[38;5;124mf\u001b[39m\u001b[38;5;124m\"\u001b[39m\u001b[38;5;124mShape of arr0: \u001b[39m\u001b[38;5;132;01m{\u001b[39;00marr0\u001b[38;5;241m.\u001b[39mshape\u001b[38;5;132;01m}\u001b[39;00m\u001b[38;5;130;01m\\n\u001b[39;00m\u001b[38;5;124m\"\u001b[39m)\n\u001b[0;32m     11\u001b[0m \u001b[38;5;66;03m# 1D-Array: [1 2 3 4 5]\u001b[39;00m\n\u001b[0;32m     12\u001b[0m \u001b[38;5;28mprint\u001b[39m(\u001b[38;5;124mf\u001b[39m\u001b[38;5;124m\"\u001b[39m\u001b[38;5;124mShape of arr1: \u001b[39m\u001b[38;5;132;01m{\u001b[39;00marr1\u001b[38;5;241m.\u001b[39mshape\u001b[38;5;132;01m}\u001b[39;00m\u001b[38;5;130;01m\\n\u001b[39;00m\u001b[38;5;124m\"\u001b[39m)\n",
      "\u001b[1;31mNameError\u001b[0m: name 'arr0' is not defined"
     ]
    }
   ],
   "source": [
    "# A lot pf people get confused between the shape and the dimension of the array\n",
    "# Dimension of the array is the number of elements in each axis\n",
    "# Shape of the array is the number of elements in each dimension\n",
    "\n",
    "# Checking the shape of the array\n",
    "# using shape attribute\n",
    "\n",
    "# 0D-Array: 42\n",
    "print(f\"Shape of arr0: {arr0.shape}\\n\")\n",
    "\n",
    "# 1D-Array: [1 2 3 4 5]\n",
    "print(f\"Shape of arr1: {arr1.shape}\\n\")\n",
    "\n",
    "# 2D-Array: [[1 2 3] [4 5 6]]\n",
    "print(f\"Shape of arr2: {arr2.shape}\\n\")"
   ]
  },
  {
   "cell_type": "code",
   "execution_count": 3,
   "id": "1d0df91d-9624-4ad7-8f17-a9be87d87731",
   "metadata": {},
   "outputs": [
    {
     "name": "stdout",
     "output_type": "stream",
     "text": [
      "Shape of arr3: (2, 3, 3)\n",
      "\n",
      "Size of array:  18\n"
     ]
    }
   ],
   "source": [
    "arr3=np.array([[[1,2,3],[4,5,6],[7,8,9]],[[1,2,3],[4,5,6],[7,8,9]]],dtype='complex')\n",
    "print(f\"Shape of arr3: {arr3.shape}\\n\")\n",
    "# Printing size (total number of elements) of array \n",
    "print(\"Size of array: \", arr3.size) \n"
   ]
  },
  {
   "cell_type": "code",
   "execution_count": 5,
   "id": "d96f340f-cca8-4a71-aba8-0fde412ed166",
   "metadata": {},
   "outputs": [
    {
     "name": "stdout",
     "output_type": "stream",
     "text": [
      "Shape of arr4: (12,)\n",
      "\n",
      "Shape of arr4 after reshaping: (6, 2)\n",
      "\n",
      "[[ 1  2]\n",
      " [ 3  4]\n",
      " [ 5  6]\n",
      " [ 7  8]\n",
      " [ 9 10]\n",
      " [11 12]]\n"
     ]
    }
   ],
   "source": [
    "# Reshaping the array\n",
    "# using reshape() method\n",
    "# Note: We can only reshape the array,\n",
    "# if the total number of elements in the array is equal\n",
    "# to the product of the number of elements in each axis\n",
    "\n",
    "arr4 = np.array([1, 2, 3, 4, 5, 6, 7, 8, 9, 10, 11, 12])\n",
    "print(f\"Shape of arr4: {arr4.shape}\\n\")\n",
    "arr4 = arr4.reshape(6,2)\n",
    "print(f\"Shape of arr4 after reshaping: {arr4.shape}\\n\")\n",
    "print(arr4)"
   ]
  },
  {
   "cell_type": "code",
   "execution_count": 9,
   "id": "7177abb3-1d88-47cc-b1d1-47eb0ae4fced",
   "metadata": {},
   "outputs": [
    {
     "name": "stdout",
     "output_type": "stream",
     "text": [
      "A sequential array with steps of 10:\n",
      " [ 10  20  30  40  50  60  70  80  90 100]\n"
     ]
    }
   ],
   "source": [
    "# Create a sequence of integers\n",
    "arr = np.arange(10, 110, 10)\n",
    "print(\"A sequential array with steps of 10:\\n\", arr)"
   ]
  },
  {
   "cell_type": "code",
   "execution_count": 10,
   "id": "be74e7e6-8157-48ca-8319-34f6e3a13d5e",
   "metadata": {},
   "outputs": [
    {
     "name": "stdout",
     "output_type": "stream",
     "text": [
      "A sequential array with 10 values between0 and 4:\n",
      " [ 0.          1.05263158  2.10526316  3.15789474  4.21052632  5.26315789\n",
      "  6.31578947  7.36842105  8.42105263  9.47368421 10.52631579 11.57894737\n",
      " 12.63157895 13.68421053 14.73684211 15.78947368 16.84210526 17.89473684\n",
      " 18.94736842 20.        ]\n"
     ]
    }
   ],
   "source": [
    "# Create a sequence of 20 values in range 0 to 4\n",
    "g = np.linspace(0, 20, 20)\n",
    "print(\"A sequential array with 10 values between\" \"0 and 4:\\n\", g)"
   ]
  },
  {
   "cell_type": "code",
   "execution_count": 11,
   "id": "e4dab9aa-0a3e-480b-9925-39fc6a9be179",
   "metadata": {},
   "outputs": [
    {
     "name": "stdout",
     "output_type": "stream",
     "text": [
      "Shape of arr5: (9,)\n",
      "\n",
      "[1 2 3 4 5 6 7 8 9]\n",
      "Shape of arr5 after reshaping: (9,)\n",
      "\n",
      "Dimension of arr5: 1\n",
      "\n"
     ]
    }
   ],
   "source": [
    "# The Unknown Dimension\n",
    "# We are allowed to have one \"unknown\" dimension\n",
    "\n",
    "# Example\n",
    "# Convert 1D array with 6 elements to 3D array with 2x? elements\n",
    "arr5=np.array([1,2,3,4,5,6,7,8,9])\n",
    "print(f\"Shape of arr5: {arr5.shape}\\n\")\n",
    "print(arr5)\n",
    "print(f\"Shape of arr5 after reshaping: {arr5.shape}\\n\")\n",
    "# Guess the dimension of the array\n",
    "print(f\"Dimension of arr5: {arr5.ndim}\\n\")"
   ]
  },
  {
   "cell_type": "code",
   "execution_count": 12,
   "id": "7a9b7822-a697-4134-b36a-bb80730bc401",
   "metadata": {},
   "outputs": [
    {
     "name": "stdout",
     "output_type": "stream",
     "text": [
      "Accessing the 2nd element of arr of dim-1: [4 5 6]\n",
      "\n",
      "Accessing the 2nd element of arr of dim-2: 9\n",
      "\n",
      "Accessing the 2nd element of arr of dim-3: (5+0j)\n",
      "\n"
     ]
    }
   ],
   "source": [
    "# Accessing the elements of the array\n",
    "arr = np.array([[1,2,3],[4,5,6],[7,8,9]])\n",
    "print(f\"Accessing the 2nd element of arr of dim-1: {arr[1]}\\n\")\n",
    "print(f\"Accessing the 2nd element of arr of dim-2: {arr[2][2]}\\n\")\n",
    "print(f\"Accessing the 2nd element of arr of dim-3: {arr3[1][1][1]}\\n\")"
   ]
  },
  {
   "cell_type": "code",
   "execution_count": 13,
   "id": "6ba2957d-88c3-41ed-9c2e-d941c848d73c",
   "metadata": {},
   "outputs": [
    {
     "ename": "NameError",
     "evalue": "name 'arr1' is not defined",
     "output_type": "error",
     "traceback": [
      "\u001b[1;31m---------------------------------------------------------------------------\u001b[0m",
      "\u001b[1;31mNameError\u001b[0m                                 Traceback (most recent call last)",
      "Cell \u001b[1;32mIn[13], line 3\u001b[0m\n\u001b[0;32m      1\u001b[0m \u001b[38;5;66;03m# Slicing the array\u001b[39;00m\n\u001b[0;32m      2\u001b[0m \u001b[38;5;66;03m# [1,2,3,4,5]\u001b[39;00m\n\u001b[1;32m----> 3\u001b[0m \u001b[38;5;28mprint\u001b[39m(\u001b[38;5;124mf\u001b[39m\u001b[38;5;124m\"\u001b[39m\u001b[38;5;124mSlicing the array: \u001b[39m\u001b[38;5;132;01m{\u001b[39;00marr1[\u001b[38;5;241m1\u001b[39m:\u001b[38;5;241m4\u001b[39m]\u001b[38;5;132;01m}\u001b[39;00m\u001b[38;5;130;01m\\n\u001b[39;00m\u001b[38;5;124m\"\u001b[39m)\n\u001b[0;32m      5\u001b[0m \u001b[38;5;66;03m# 2D-Array: [[1 2 3] [4 5 6]]\u001b[39;00m\n\u001b[0;32m      6\u001b[0m \u001b[38;5;28mprint\u001b[39m(\u001b[38;5;124mf\u001b[39m\u001b[38;5;124m\"\u001b[39m\u001b[38;5;124mSlicing the array: \u001b[39m\u001b[38;5;132;01m{\u001b[39;00marr2[\u001b[38;5;241m1\u001b[39m,\u001b[38;5;241m5\u001b[39m:]\u001b[38;5;132;01m}\u001b[39;00m\u001b[38;5;130;01m\\n\u001b[39;00m\u001b[38;5;124m\"\u001b[39m)\n",
      "\u001b[1;31mNameError\u001b[0m: name 'arr1' is not defined"
     ]
    }
   ],
   "source": [
    "# Slicing the array\n",
    "# [1,2,3,4,5]\n",
    "print(f\"Slicing the array: {arr1[1:4]}\\n\")\n",
    "\n",
    "# 2D-Array: [[1 2 3] [4 5 6]]\n",
    "print(f\"Slicing the array: {arr2[1,5:]}\\n\")"
   ]
  },
  {
   "cell_type": "code",
   "execution_count": 14,
   "id": "9158c1c0-3076-47a0-a0f1-b8fd717ffa9d",
   "metadata": {},
   "outputs": [
    {
     "ename": "NameError",
     "evalue": "name 'arr2' is not defined",
     "output_type": "error",
     "traceback": [
      "\u001b[1;31m---------------------------------------------------------------------------\u001b[0m",
      "\u001b[1;31mNameError\u001b[0m                                 Traceback (most recent call last)",
      "Cell \u001b[1;32mIn[14], line 3\u001b[0m\n\u001b[0;32m      1\u001b[0m \u001b[38;5;66;03m# [[1 2 3]\u001b[39;00m\n\u001b[0;32m      2\u001b[0m \u001b[38;5;66;03m#  [4 5 6]]\u001b[39;00m\n\u001b[1;32m----> 3\u001b[0m \u001b[38;5;28mprint\u001b[39m(\u001b[38;5;124mf\u001b[39m\u001b[38;5;124m\"\u001b[39m\u001b[38;5;124mSlicing the array: \u001b[39m\u001b[38;5;132;01m{\u001b[39;00marr2[\u001b[38;5;241m0\u001b[39m:\u001b[38;5;241m3\u001b[39m,\u001b[38;5;241m1\u001b[39m]\u001b[38;5;132;01m}\u001b[39;00m\u001b[38;5;130;01m\\n\u001b[39;00m\u001b[38;5;124m\"\u001b[39m)\n\u001b[0;32m      4\u001b[0m \u001b[38;5;28mprint\u001b[39m(\u001b[38;5;124mf\u001b[39m\u001b[38;5;124m\"\u001b[39m\u001b[38;5;124mSlicing the array: \u001b[39m\u001b[38;5;132;01m{\u001b[39;00marr2[\u001b[38;5;241m0\u001b[39m:\u001b[38;5;241m2\u001b[39m,\u001b[38;5;241m1\u001b[39m:\u001b[38;5;241m3\u001b[39m]\u001b[38;5;132;01m}\u001b[39;00m\u001b[38;5;130;01m\\n\u001b[39;00m\u001b[38;5;124m\"\u001b[39m)\n",
      "\u001b[1;31mNameError\u001b[0m: name 'arr2' is not defined"
     ]
    }
   ],
   "source": [
    "# [[1 2 3]\n",
    "#  [4 5 6]]\n",
    "print(f\"Slicing the array: {arr2[0:3,1]}\\n\")\n",
    "print(f\"Slicing the array: {arr2[0:2,1:3]}\\n\")"
   ]
  },
  {
   "cell_type": "code",
   "execution_count": 15,
   "id": "a825af08-b239-4823-9dfb-9d7d8cc1107e",
   "metadata": {},
   "outputs": [
    {
     "ename": "NameError",
     "evalue": "name 'arr1' is not defined",
     "output_type": "error",
     "traceback": [
      "\u001b[1;31m---------------------------------------------------------------------------\u001b[0m",
      "\u001b[1;31mNameError\u001b[0m                                 Traceback (most recent call last)",
      "Cell \u001b[1;32mIn[15], line 2\u001b[0m\n\u001b[0;32m      1\u001b[0m \u001b[38;5;66;03m# Negative Slicing\u001b[39;00m\n\u001b[1;32m----> 2\u001b[0m \u001b[38;5;28mprint\u001b[39m(\u001b[38;5;124mf\u001b[39m\u001b[38;5;124m\"\u001b[39m\u001b[38;5;124mNegative Slicing the array: \u001b[39m\u001b[38;5;132;01m{\u001b[39;00marr1[\u001b[38;5;241m-\u001b[39m\u001b[38;5;241m3\u001b[39m:\u001b[38;5;241m-\u001b[39m\u001b[38;5;241m1\u001b[39m]\u001b[38;5;132;01m}\u001b[39;00m\u001b[38;5;130;01m\\n\u001b[39;00m\u001b[38;5;124m\"\u001b[39m)\n",
      "\u001b[1;31mNameError\u001b[0m: name 'arr1' is not defined"
     ]
    }
   ],
   "source": [
    "# Negative Slicing\n",
    "print(f\"Negative Slicing the array: {arr1[-3:-1]}\\n\")"
   ]
  },
  {
   "cell_type": "code",
   "execution_count": 16,
   "id": "8d66f529-075a-4303-b5d9-ec05e93bb2f8",
   "metadata": {},
   "outputs": [
    {
     "data": {
      "text/plain": [
       "array([['_', '_', '_', '_', '_', '_', '_', '_'],\n",
       "       ['_', '_', '_', '|', '|', '_', '_', '_'],\n",
       "       [' ', ' ', ' ', '|', '|', ' ', ' ', ' '],\n",
       "       [' ', ' ', ' ', '|', '|', ' ', ' ', ' '],\n",
       "       [' ', ' ', ' ', '|', '|', ' ', ' ', ' '],\n",
       "       [' ', ' ', ' ', '|', '|', ' ', ' ', ' '],\n",
       "       ['_', '_', '_', '|', '|', '_', '_', '_'],\n",
       "       ['_', '_', '_', '|', '|', '_', '_', '_']], dtype='<U1')"
      ]
     },
     "execution_count": 16,
     "metadata": {},
     "output_type": "execute_result"
    }
   ],
   "source": [
    "def letter_i(size):\n",
    "    letter_i = np.full((size, size), \" \")\n",
    "    letter_i[0, 0:] = \"_\"\n",
    "    letter_i[1, 0:] = \"_\"\n",
    "    letter_i[size - 1,0 :] = \"_\"\n",
    "    letter_i[size - 2, :] = \"_\"\n",
    "    letter_i[1:, size // 2] = \"|\"\n",
    "    letter_i[1:, (size // 2)-1] = \"|\"\n",
    "    return letter_i\n",
    "letter_i(8)"
   ]
  },
  {
   "cell_type": "code",
   "execution_count": 17,
   "id": "4130bdad-55a1-4aba-993f-2c1c5aa2fa84",
   "metadata": {},
   "outputs": [],
   "source": [
    "def letter_e(size):\n",
    "    letter_e = np.full((size, size), \" \")\n",
    "    letter_e[1:, [1, 2]] = \"|\"\n",
    "    letter_e[0, 2:] = \"_\"\n",
    "    letter_e[size // 2, 3:] = \"_\"\n",
    "    letter_e[size-1, 3:] = \"_\"\n",
    "    return letter_e"
   ]
  },
  {
   "cell_type": "code",
   "execution_count": 18,
   "id": "51c1f5f5-f8ed-46e5-a78f-5c6917b78803",
   "metadata": {},
   "outputs": [
    {
     "name": "stdout",
     "output_type": "stream",
     "text": [
      "_ _ _ _ _ _ _ _ _ _ _     _ _ _ _ _ _ _ _ _     _ _ _ _ _ _ _ _ _     _ _ _ _ _ _ _ _ _\n",
      "_ _ _ _ | | _ _ _ _ _   | |                   | |                   | |                \n",
      "        | |             | |                   | |                   | |                \n",
      "        | |             | |                   | |                   | |                \n",
      "        | |             | |                   | |                   | |                \n",
      "        | |             | | _ _ _ _ _ _ _ _   | | _ _ _ _ _ _ _ _   | | _ _ _ _ _ _ _ _\n",
      "        | |             | |                   | |                   | |                \n",
      "        | |             | |                   | |                   | |                \n",
      "        | |             | |                   | |                   | |                \n",
      "_ _ _ _ | | _ _ _ _ _   | |                   | |                   | |                \n",
      "_ _ _ _ | | _ _ _ _ _   | | _ _ _ _ _ _ _ _   | | _ _ _ _ _ _ _ _   | | _ _ _ _ _ _ _ _\n"
     ]
    }
   ],
   "source": [
    "def print_letters(word):\n",
    "    for row in word:\n",
    "        print(\" \".join(row))\n",
    "\n",
    "size = 11\n",
    "ieee_word = np.concatenate(\n",
    "    [letter_i(size), letter_e(size), letter_e(size), letter_e(size)], axis=1\n",
    ")\n",
    "\n",
    "print_letters(ieee_word)"
   ]
  },
  {
   "cell_type": "code",
   "execution_count": null,
   "id": "99557cc1-cb78-4cd6-bb61-7627aaaed667",
   "metadata": {},
   "outputs": [],
   "source": []
  },
  {
   "cell_type": "code",
   "execution_count": null,
   "id": "07aa6dd6-51cd-4b51-997e-47305e24c604",
   "metadata": {},
   "outputs": [],
   "source": []
  }
 ],
 "metadata": {
  "kernelspec": {
   "display_name": "Python 3 (ipykernel)",
   "language": "python",
   "name": "python3"
  },
  "language_info": {
   "codemirror_mode": {
    "name": "ipython",
    "version": 3
   },
   "file_extension": ".py",
   "mimetype": "text/x-python",
   "name": "python",
   "nbconvert_exporter": "python",
   "pygments_lexer": "ipython3",
   "version": "3.10.11"
  }
 },
 "nbformat": 4,
 "nbformat_minor": 5
}
